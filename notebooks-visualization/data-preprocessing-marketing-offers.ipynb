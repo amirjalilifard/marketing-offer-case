{
 "cells": [
  {
   "cell_type": "code",
   "execution_count": 0,
   "metadata": {
    "application/vnd.databricks.v1+cell": {
     "cellMetadata": {
      "byteLimit": 2048000,
      "rowLimit": 10000
     },
     "inputWidgets": {},
     "nuid": "1fc5749e-d819-4da7-af31-dacef17095cc",
     "showTitle": false,
     "tableResultSettingsMap": {},
     "title": ""
    }
   },
   "outputs": [],
   "source": [
    "from pyspark.sql import SparkSession\n",
    "from pyspark.sql import functions as F"
   ]
  },
  {
   "cell_type": "markdown",
   "metadata": {
    "application/vnd.databricks.v1+cell": {
     "cellMetadata": {},
     "inputWidgets": {},
     "nuid": "e0a7bee7-1fcd-4568-a361-3dc16fc7cd80",
     "showTitle": false,
     "tableResultSettingsMap": {},
     "title": ""
    }
   },
   "source": [
    "\n",
    ">>> **Please see the dataset creation logic in the later columns**\n",
    "\n",
    "**General Plan:**\n",
    "- Understand the problem and the data tables\n",
    "- Observe the data\n",
    "- Join the tree tables based on account_id and offer_id\n",
    "- Create the labels for the first classifier which defines if the user had transaction after receiving an offer or not\n",
    "- Do exploratory analysis based on profil info, credirt limit, gender, min value of the offer and so on\n",
    "- Create a dataset for those transactions without offer or after a due time\n",
    "- Train both models and test them with test sets\n",
    "- Create the final uplift model\n",
    "- Mention the problems with dataset like lack of having a date which might result in some kind of data leak\n",
    "\n",
    "\n",
    "In this notebook I take a look at the data and based on their characteristics create two datasets for uplift modeling"
   ]
  },
  {
   "cell_type": "markdown",
   "metadata": {
    "application/vnd.databricks.v1+cell": {
     "cellMetadata": {},
     "inputWidgets": {},
     "nuid": "7beab8f1-98d9-4baf-82da-fc40c9f9cc2c",
     "showTitle": false,
     "tableResultSettingsMap": {},
     "title": ""
    }
   },
   "source": [
    "## Data loading and initial data preperations"
   ]
  },
  {
   "cell_type": "code",
   "execution_count": 0,
   "metadata": {
    "application/vnd.databricks.v1+cell": {
     "cellMetadata": {
      "byteLimit": 2048000,
      "rowLimit": 10000
     },
     "inputWidgets": {},
     "nuid": "1d25bea8-4b8b-42bf-9c60-7a7f813a8dc9",
     "showTitle": false,
     "tableResultSettingsMap": {},
     "title": ""
    }
   },
   "outputs": [],
   "source": [
    "spark = SparkSession.builder.appName(\"marketing-offers\").getOrCreate()"
   ]
  },
  {
   "cell_type": "code",
   "execution_count": 0,
   "metadata": {
    "application/vnd.databricks.v1+cell": {
     "cellMetadata": {
      "byteLimit": 2048000,
      "rowLimit": 10000
     },
     "inputWidgets": {},
     "nuid": "3983c281-b0d7-4a01-8cb4-6889977d8383",
     "showTitle": false,
     "tableResultSettingsMap": {},
     "title": ""
    }
   },
   "outputs": [],
   "source": [
    "## loading the tables\n",
    "df_transactions = spark.read.json(\"/Volumes/workspace/default/data/transactions.json\")\n",
    "df_profiles = spark.read.json(\"/Volumes/workspace/default/data/profile.json\")\n",
    "df_offers = spark.read.json(\"/Volumes/workspace/default/data/offers.json\")"
   ]
  },
  {
   "cell_type": "code",
   "execution_count": 0,
   "metadata": {
    "application/vnd.databricks.v1+cell": {
     "cellMetadata": {
      "byteLimit": 2048000,
      "rowLimit": 10000
     },
     "inputWidgets": {},
     "nuid": "9fe1d3a6-1b03-439c-9765-8c162d156a62",
     "showTitle": false,
     "tableResultSettingsMap": {},
     "title": ""
    }
   },
   "outputs": [],
   "source": [
    "df_transactions.show()"
   ]
  },
  {
   "cell_type": "code",
   "execution_count": 0,
   "metadata": {
    "application/vnd.databricks.v1+cell": {
     "cellMetadata": {
      "byteLimit": 2048000,
      "rowLimit": 10000
     },
     "inputWidgets": {},
     "nuid": "05c8c83e-25e6-4cfd-80ae-804d0ff3ed98",
     "showTitle": false,
     "tableResultSettingsMap": {},
     "title": ""
    }
   },
   "outputs": [],
   "source": [
    "# Here I am standardizing the transaction schema:\n",
    "# - Keeping core fields (account_id, event, time_since_test_start).\n",
    "# - Unifying inconsistent column naming for offer_id by using coalesce:\n",
    "#   if \"value.offer_id\" is null, fall back to \"value.`offer id`\".\n",
    "# - Extracting and rename amount and reward for clarity.\n",
    "\n",
    "df_transactions = df_transactions.select(\n",
    "    \"account_id\",\n",
    "    \"event\",\n",
    "    \"time_since_test_start\",\n",
    "    F.coalesce(F.col(\"value.offer_id\"), F.col(\"value.`offer id`\")).alias(\"offer_id\"),\n",
    "    F.col(\"value.amount\").alias(\"amount\"),\n",
    "    F.col(\"value.reward\").alias(\"reward\")\n",
    ")\n",
    "\n",
    "df_transactions.show(5, truncate=False)"
   ]
  },
  {
   "cell_type": "code",
   "execution_count": 0,
   "metadata": {
    "application/vnd.databricks.v1+cell": {
     "cellMetadata": {
      "byteLimit": 2048000,
      "rowLimit": 10000
     },
     "inputWidgets": {},
     "nuid": "eb137d44-193e-410b-b2cc-c34009f92360",
     "showTitle": false,
     "tableResultSettingsMap": {},
     "title": ""
    }
   },
   "outputs": [],
   "source": [
    "# Filtering those rows with amount not being null\n",
    "df_offers_received = (\n",
    "    df_transactions\n",
    "    .filter(\n",
    "        F.col(\"amount\").isNotNull()\n",
    "    )\n",
    ")\n",
    "\n",
    "df_offers_received.show(10, truncate=False)"
   ]
  },
  {
   "cell_type": "code",
   "execution_count": 0,
   "metadata": {
    "application/vnd.databricks.v1+cell": {
     "cellMetadata": {
      "byteLimit": 2048000,
      "rowLimit": 10000
     },
     "inputWidgets": {},
     "nuid": "8387fc37-8b1b-426b-917d-b2e0c4c62705",
     "showTitle": false,
     "tableResultSettingsMap": {},
     "title": ""
    }
   },
   "outputs": [],
   "source": [
    "# This renaming is important for the next joins\n",
    "df_profiles = df_profiles.withColumnRenamed(\"id\", \"account_id\")\n",
    "df_profiles.show()"
   ]
  },
  {
   "cell_type": "code",
   "execution_count": 0,
   "metadata": {
    "application/vnd.databricks.v1+cell": {
     "cellMetadata": {
      "byteLimit": 2048000,
      "rowLimit": 10000
     },
     "inputWidgets": {},
     "nuid": "1f56b09b-ce92-4d1d-b556-feb3bd80591f",
     "showTitle": false,
     "tableResultSettingsMap": {},
     "title": ""
    }
   },
   "outputs": [],
   "source": [
    "df_offers.show()"
   ]
  },
  {
   "cell_type": "markdown",
   "metadata": {
    "application/vnd.databricks.v1+cell": {
     "cellMetadata": {},
     "inputWidgets": {},
     "nuid": "89c065f9-7664-4a64-8229-597a7535f388",
     "showTitle": false,
     "tableResultSettingsMap": {},
     "title": ""
    }
   },
   "source": [
    "## Joining the tables"
   ]
  },
  {
   "cell_type": "markdown",
   "metadata": {
    "application/vnd.databricks.v1+cell": {
     "cellMetadata": {},
     "inputWidgets": {},
     "nuid": "06968d64-24c7-4ca9-a185-0b406ea359f3",
     "showTitle": false,
     "tableResultSettingsMap": {},
     "title": ""
    }
   },
   "source": [
    "### transactions + **profile**"
   ]
  },
  {
   "cell_type": "code",
   "execution_count": 0,
   "metadata": {
    "application/vnd.databricks.v1+cell": {
     "cellMetadata": {
      "byteLimit": 2048000,
      "rowLimit": 10000
     },
     "inputWidgets": {},
     "nuid": "52da735d-39c9-4819-ad66-0c0c8e8398ed",
     "showTitle": false,
     "tableResultSettingsMap": {},
     "title": ""
    }
   },
   "outputs": [],
   "source": [
    "profile_transactions = df_transactions.join(df_profiles, on= 'account_id', how = \"inner\")\n",
    "profile_transactions.show()"
   ]
  },
  {
   "cell_type": "markdown",
   "metadata": {
    "application/vnd.databricks.v1+cell": {
     "cellMetadata": {},
     "inputWidgets": {},
     "nuid": "0d2c1a48-38e6-4519-a791-7bf277fc5b4e",
     "showTitle": false,
     "tableResultSettingsMap": {},
     "title": ""
    }
   },
   "source": [
    "### Understanding the data"
   ]
  },
  {
   "cell_type": "code",
   "execution_count": 0,
   "metadata": {
    "application/vnd.databricks.v1+cell": {
     "cellMetadata": {
      "byteLimit": 2048000,
      "rowLimit": 10000
     },
     "inputWidgets": {},
     "nuid": "198bba5c-27a6-47a0-8f5f-9ca655598263",
     "showTitle": false,
     "tableResultSettingsMap": {},
     "title": ""
    }
   },
   "outputs": [],
   "source": [
    "profile_transactions.filter(\n",
    "        F.col(\"offer_id\").isNotNull()\n",
    ").show()"
   ]
  },
  {
   "cell_type": "code",
   "execution_count": 0,
   "metadata": {
    "application/vnd.databricks.v1+cell": {
     "cellMetadata": {
      "byteLimit": 2048000,
      "rowLimit": 10000
     },
     "inputWidgets": {},
     "nuid": "bf81cefa-49a0-4f48-b067-b94b0fe8a49e",
     "showTitle": false,
     "tableResultSettingsMap": {},
     "title": ""
    }
   },
   "outputs": [],
   "source": [
    "profile_transactions.filter(\n",
    "        F.col(\"time_since_test_start\")!=0.0\n",
    ").show()"
   ]
  },
  {
   "cell_type": "code",
   "execution_count": 0,
   "metadata": {
    "application/vnd.databricks.v1+cell": {
     "cellMetadata": {
      "byteLimit": 2048000,
      "rowLimit": 10000
     },
     "inputWidgets": {},
     "nuid": "5cbe9280-d1c1-4d97-8402-97106425c4e5",
     "showTitle": false,
     "tableResultSettingsMap": {},
     "title": ""
    }
   },
   "outputs": [],
   "source": [
    "profile_transactions.filter(\n",
    "        (F.col(\"event\")==\"transaction\") & (F.col(\"amount\")!=0.0)\n",
    ").show()"
   ]
  },
  {
   "cell_type": "code",
   "execution_count": 0,
   "metadata": {
    "application/vnd.databricks.v1+cell": {
     "cellMetadata": {
      "byteLimit": 2048000,
      "rowLimit": 10000
     },
     "inputWidgets": {},
     "nuid": "4874a046-3f5d-4631-ac22-738fa0cd4cd6",
     "showTitle": false,
     "tableResultSettingsMap": {},
     "title": ""
    }
   },
   "outputs": [],
   "source": [
    "profile_transactions.filter(\n",
    "        (F.col(\"event\")!=\"transaction\")\n",
    ").show()"
   ]
  },
  {
   "cell_type": "code",
   "execution_count": 0,
   "metadata": {
    "application/vnd.databricks.v1+cell": {
     "cellMetadata": {
      "byteLimit": 2048000,
      "rowLimit": 10000
     },
     "inputWidgets": {},
     "nuid": "565404bd-7d5c-4e0b-ae18-779223b9ccda",
     "showTitle": false,
     "tableResultSettingsMap": {},
     "title": ""
    }
   },
   "outputs": [],
   "source": [
    "set(profile_transactions.select(\"time_since_test_start\").collect())"
   ]
  },
  {
   "cell_type": "code",
   "execution_count": 0,
   "metadata": {
    "application/vnd.databricks.v1+cell": {
     "cellMetadata": {
      "byteLimit": 2048000,
      "rowLimit": 10000
     },
     "inputWidgets": {},
     "nuid": "f7db8645-b770-4cb6-afcc-439328fa6f32",
     "showTitle": false,
     "tableResultSettingsMap": {},
     "title": ""
    }
   },
   "outputs": [],
   "source": [
    "# Here, I am doing a quick observation on data to understand their characteristics and to identify possible outliers\n",
    "profile_transactions.groupBy(\"event\").agg(\n",
    "    F.min(\"time_since_test_start\").alias(\"min_time\"),\n",
    "    F.max(\"time_since_test_start\").alias(\"max_time\"),\n",
    "    F.avg(\"time_since_test_start\").alias(\"avg_time\")\n",
    ").show()\n"
   ]
  },
  {
   "cell_type": "code",
   "execution_count": 0,
   "metadata": {
    "application/vnd.databricks.v1+cell": {
     "cellMetadata": {
      "byteLimit": 2048000,
      "rowLimit": 10000
     },
     "inputWidgets": {},
     "nuid": "4dae1798-1f47-46dc-a0e0-c488629f119c",
     "showTitle": false,
     "tableResultSettingsMap": {},
     "title": ""
    }
   },
   "outputs": [],
   "source": [
    "profile_transactions.filter(\n",
    "    (F.col(\"event\")==\"transaction\") & (F.col(\"time_since_test_start\")>0)\n",
    ").count()"
   ]
  },
  {
   "cell_type": "code",
   "execution_count": 0,
   "metadata": {
    "application/vnd.databricks.v1+cell": {
     "cellMetadata": {
      "byteLimit": 2048000,
      "rowLimit": 10000
     },
     "inputWidgets": {},
     "nuid": "f696b4e9-d844-4206-8a97-5927fd10232f",
     "showTitle": false,
     "tableResultSettingsMap": {},
     "title": ""
    }
   },
   "outputs": [],
   "source": [
    "profile_transactions.filter(\n",
    "    (F.col(\"event\")==\"offer received\") & (F.col(\"time_since_test_start\")>0)\n",
    ").count()\n"
   ]
  },
  {
   "cell_type": "markdown",
   "metadata": {
    "application/vnd.databricks.v1+cell": {
     "cellMetadata": {},
     "inputWidgets": {},
     "nuid": "89c77aaf-3cef-421a-bfec-5b0bbcbb1e14",
     "showTitle": false,
     "tableResultSettingsMap": {},
     "title": ""
    }
   },
   "source": [
    "## Joining the table with offers"
   ]
  },
  {
   "cell_type": "code",
   "execution_count": 0,
   "metadata": {
    "application/vnd.databricks.v1+cell": {
     "cellMetadata": {
      "byteLimit": 2048000,
      "rowLimit": 10000
     },
     "inputWidgets": {},
     "nuid": "36ee9e0f-5553-4466-b733-fd9c643d0b77",
     "showTitle": false,
     "tableResultSettingsMap": {},
     "title": ""
    }
   },
   "outputs": [],
   "source": [
    "df_offers = df_offers.withColumnRenamed('id', 'offer_id')\n",
    "joint_data = profile_transactions.join(df_offers, on= 'offer_id', how = \"left\")\n",
    "joint_data.show()"
   ]
  },
  {
   "cell_type": "code",
   "execution_count": 0,
   "metadata": {
    "application/vnd.databricks.v1+cell": {
     "cellMetadata": {
      "byteLimit": 2048000,
      "rowLimit": 10000
     },
     "inputWidgets": {},
     "nuid": "798e79f4-3f75-424c-976c-80c681cabfee",
     "showTitle": false,
     "tableResultSettingsMap": {},
     "title": ""
    }
   },
   "outputs": [],
   "source": [
    "joint_data.filter(F.col(\"offer_id\").isNotNull()).show()"
   ]
  },
  {
   "cell_type": "code",
   "execution_count": 0,
   "metadata": {
    "application/vnd.databricks.v1+cell": {
     "cellMetadata": {
      "byteLimit": 2048000,
      "rowLimit": 10000
     },
     "inputWidgets": {},
     "nuid": "54f38b64-f95c-4d67-a3aa-1adcf47ec26c",
     "showTitle": false,
     "tableResultSettingsMap": {},
     "title": ""
    }
   },
   "outputs": [],
   "source": [
    "joint_data.groupBy(\"event\").count().show()"
   ]
  },
  {
   "cell_type": "markdown",
   "metadata": {
    "application/vnd.databricks.v1+cell": {
     "cellMetadata": {},
     "inputWidgets": {},
     "nuid": "459387af-6f64-4f75-b847-219295dc2999",
     "showTitle": false,
     "tableResultSettingsMap": {},
     "title": ""
    }
   },
   "source": [
    "## Creating the main dataset with labels"
   ]
  },
  {
   "cell_type": "markdown",
   "metadata": {
    "application/vnd.databricks.v1+cell": {
     "cellMetadata": {},
     "inputWidgets": {},
     "nuid": "ed92a008-a889-4ae3-87ce-6dec69690048",
     "showTitle": false,
     "tableResultSettingsMap": {},
     "title": ""
    }
   },
   "source": [
    "### Business Logic of Labeling Data\n",
    "\n",
    "This code builds a **labeled dataset** that links each user (profile) with each offer they received and determines whether the offer led to a transaction.  \n",
    "\n",
    "1. **Join offers and transactions**  \n",
    "   - Each user (`account_id`) may receive multiple offers and may also have multiple transactions.  \n",
    "   - The join matches offers with transactions belonging to the same user.  \n",
    "\n",
    "2. **Identify offer-driven transactions**  \n",
    "   - A transaction is considered influenced by an offer if it happens *after* the offer start time and *within the offer’s validity window (`duration`)*.  \n",
    "   - If such a transaction exists, we label it with `led_to_tx = 1`. Otherwise, it gets `0`.  \n",
    "\n",
    "   Mathematically, for each transaction `t` and offer `o`:  \n",
    "\n",
    "![Screenshot From 2025-08-21 11-07-59.png](./imgs/Screenshot From 2025-08-21 11-07-59.png \"Screenshot From 2025-08-21 11-07-59.png\")\n",
    "\n",
    "3. **Aggregate per offer**  \n",
    "   - Since an offer may be linked with multiple transactions, we take the **maximum** of `led_to_tx`.  \n",
    "   - This ensures that if *any* transaction falls inside the offer window, the offer is labeled as successful (`offer_led_to_transaction = 1`).  \n",
    "\n",
    "4. **Enrich with user and offer details**  \n",
    "   - Finally, we join with `df_profiles` (user demographics, behavior, etc.) and `df_offers` (offer characteristics such as type, channel, discount).  \n",
    "   - The resulting dataset has one row per `(account_id, offer_id)`, with features from the user profile and offer plus the target label (`offer_led_to_transaction`).  \n",
    "\n",
    "---\n",
    "\n",
    "This creates the **training dataset** for modeling the effectiveness of offers: predicting whether a given offer to a specific user will result in a transaction.\n"
   ]
  },
  {
   "cell_type": "code",
   "execution_count": 0,
   "metadata": {
    "application/vnd.databricks.v1+cell": {
     "cellMetadata": {
      "byteLimit": 2048000,
      "rowLimit": 10000
     },
     "inputWidgets": {},
     "nuid": "7f05d08d-3c37-434f-9120-69cee0f5a014",
     "showTitle": false,
     "tableResultSettingsMap": {},
     "title": ""
    }
   },
   "outputs": [],
   "source": [
    "offers = joint_data.filter(F.col(\"offer_id\").isNotNull())\n",
    "transactions = joint_data.filter((F.col(\"event\") == \"transaction\"))"
   ]
  },
  {
   "cell_type": "code",
   "execution_count": 0,
   "metadata": {
    "application/vnd.databricks.v1+cell": {
     "cellMetadata": {
      "byteLimit": 2048000,
      "rowLimit": 10000
     },
     "inputWidgets": {},
     "nuid": "75e02b63-f72c-4a42-9480-5ae9e70f435c",
     "showTitle": false,
     "tableResultSettingsMap": {},
     "title": ""
    }
   },
   "outputs": [],
   "source": [
    "transactions.show()"
   ]
  },
  {
   "cell_type": "code",
   "execution_count": 0,
   "metadata": {
    "application/vnd.databricks.v1+cell": {
     "cellMetadata": {
      "byteLimit": 2048000,
      "rowLimit": 10000
     },
     "inputWidgets": {},
     "nuid": "2894e9fb-3150-43f2-9484-a1d1ae5828d4",
     "showTitle": false,
     "tableResultSettingsMap": {},
     "title": ""
    }
   },
   "outputs": [],
   "source": [
    "labeled_data = (\n",
    "    offers.alias(\"o\")\n",
    "    .join(transactions.alias(\"t\"), on=\"account_id\", how=\"left\")\n",
    "    .withColumn(\n",
    "        \"led_to_tx\",\n",
    "        F.when(\n",
    "            (F.col(\"t.time_since_test_start\") > F.col(\"o.time_since_test_start\")) &\n",
    "            (F.col(\"t.time_since_test_start\") <= F.col(\"o.time_since_test_start\") + F.col(\"o.duration\")),\n",
    "            1\n",
    "        ).otherwise(0)\n",
    "    )\n",
    "    .groupBy(\"o.account_id\", \"o.offer_id\")\n",
    "    .agg(F.max(\"led_to_tx\").alias(\"offer_led_to_transaction\"))\n",
    ").join(\n",
    "    df_profiles, on=\"account_id\", how=\"inner\"\n",
    ").join(\n",
    "    df_offers, on=\"offer_id\", how=\"inner\"\n",
    ")"
   ]
  },
  {
   "cell_type": "code",
   "execution_count": 0,
   "metadata": {
    "application/vnd.databricks.v1+cell": {
     "cellMetadata": {
      "byteLimit": 2048000,
      "rowLimit": 10000
     },
     "inputWidgets": {},
     "nuid": "8cd4776b-f60f-45ae-9abe-8114d0e3fe8b",
     "showTitle": false,
     "tableResultSettingsMap": {},
     "title": ""
    }
   },
   "outputs": [],
   "source": [
    "labeled_data.show()"
   ]
  },
  {
   "cell_type": "code",
   "execution_count": 0,
   "metadata": {
    "application/vnd.databricks.v1+cell": {
     "cellMetadata": {
      "byteLimit": 2048000,
      "rowLimit": 10000
     },
     "inputWidgets": {},
     "nuid": "0f33577f-ea02-4a9a-8481-d21b15bd339b",
     "showTitle": false,
     "tableResultSettingsMap": {},
     "title": ""
    }
   },
   "outputs": [],
   "source": [
    "labeled_data.filter(F.col('offer_led_to_transaction')==0).count()"
   ]
  },
  {
   "cell_type": "code",
   "execution_count": 0,
   "metadata": {
    "application/vnd.databricks.v1+cell": {
     "cellMetadata": {
      "byteLimit": 2048000,
      "rowLimit": 10000
     },
     "inputWidgets": {},
     "nuid": "cf984585-8cfc-4f25-961d-3b57b5d061b6",
     "showTitle": false,
     "tableResultSettingsMap": {},
     "title": ""
    }
   },
   "outputs": [],
   "source": [
    "labeled_data_csv_ready = labeled_data.withColumn(\n",
    "    \"channels\", F.concat_ws(\",\", F.col(\"channels\"))\n",
    ")\n",
    "labeled_data_csv_ready.write.mode(\"overwrite\").option(\"header\", \"true\").csv(\"/Volumes/workspace/default/data/labeled_data_with_offer.csv\")"
   ]
  },
  {
   "cell_type": "markdown",
   "metadata": {
    "application/vnd.databricks.v1+cell": {
     "cellMetadata": {},
     "inputWidgets": {},
     "nuid": "536ffcbe-5f31-4843-9f5e-a3a08fa2296e",
     "showTitle": false,
     "tableResultSettingsMap": {},
     "title": ""
    }
   },
   "source": [
    "### Coltrol group data\n",
    "This is a group whose transactions doesnt depend on offers or has no transaction at all.\n",
    "\n",
    "I will use this to calculate the uplift.\n",
    "Here I consider that those users who had some transaction within 30 days before offer, as loyal users. I am not considering as potential transactions those users with old outdated transactions.\n",
    "Low time gap means possible **False Negatives**, and high time gap might lead to **False Positives**\n",
    "\n",
    "\n",
    "### User Profile Classes Definition\n",
    "\n",
    "We define two types of users based on their transaction behavior relative to offers:\n",
    "\n",
    "---\n",
    "\n",
    "**Case 1: Users who never transacted**\n",
    "\n",
    "![Screenshot From 2025-08-21 11-12-37.png](./imgs/Screenshot From 2025-08-21 11-12-37.png \"Screenshot From 2025-08-21 11-12-37.png\")\n",
    "\n",
    "---\n",
    "\n",
    "**Case 2: Users who transacted outside the offer window (loyal buyers)**\n",
    "\n",
    "![Screenshot From 2025-08-21 11-12-48.png](./imgs/Screenshot From 2025-08-21 11-12-48.png \"Screenshot From 2025-08-21 11-12-48.png\")\n",
    "\n",
    "---\n",
    "\n",
    "**Final dataset**\n",
    "\n",
    "![Screenshot From 2025-08-21 11-13-01.png](./imgs/Screenshot From 2025-08-21 11-13-01.png \"Screenshot From 2025-08-21 11-13-01.png\")\n",
    "\n",
    "---\n",
    "\n",
    "Here:\n",
    "- `class = 0` → **Never buyers** (no transactions at all).  \n",
    "- `class = 1` → **Faithful buyers** (those who transacted in the last 30 days before an offer, independent of offers).\n"
   ]
  },
  {
   "cell_type": "code",
   "execution_count": 0,
   "metadata": {
    "application/vnd.databricks.v1+cell": {
     "cellMetadata": {
      "byteLimit": 2048000,
      "rowLimit": 10000
     },
     "inputWidgets": {},
     "nuid": "62dd572f-5eb1-4afb-b9d3-9f9d637e86f7",
     "showTitle": false,
     "tableResultSettingsMap": {},
     "title": ""
    }
   },
   "outputs": [],
   "source": [
    "never_transacted_users = (\n",
    "    df_profiles.alias(\"p\")\n",
    "    .join(transactions.alias(\"t\"), on=\"account_id\", how=\"left_anti\")\n",
    "    .withColumn(\"class\", F.lit(0))\n",
    "    .select(\"p.*\", \"class\")\n",
    ")\n",
    "\n",
    "outside_window_users = (\n",
    "    offers.alias(\"o\")\n",
    "    .join(transactions.alias(\"t\"), on=\"account_id\", how=\"inner\")\n",
    "    .filter(\n",
    "        (F.col(\"t.time_since_test_start\") < F.col(\"o.time_since_test_start\"))\n",
    "        & \n",
    "        (F.col(\"t.time_since_test_start\") >= F.col(\"o.time_since_test_start\") - 30)\n",
    "    )\n",
    "    .select(\"o.account_id\")\n",
    "    .distinct()\n",
    "    .join(df_profiles, on=\"account_id\", how=\"inner\")\n",
    "    .withColumn(\"class\", F.lit(1))\n",
    ")\n",
    "user_profiles_classes = never_transacted_users.unionByName(outside_window_users)"
   ]
  },
  {
   "cell_type": "code",
   "execution_count": 0,
   "metadata": {
    "application/vnd.databricks.v1+cell": {
     "cellMetadata": {
      "byteLimit": 2048000,
      "rowLimit": 10000
     },
     "inputWidgets": {},
     "nuid": "98f5e82c-1e83-4ad2-8a0f-3193165628c3",
     "showTitle": false,
     "tableResultSettingsMap": {},
     "title": ""
    }
   },
   "outputs": [],
   "source": [
    "user_profiles_classes.filter(F.col(\"class\")==0).show()"
   ]
  },
  {
   "cell_type": "code",
   "execution_count": 0,
   "metadata": {
    "application/vnd.databricks.v1+cell": {
     "cellMetadata": {
      "byteLimit": 2048000,
      "rowLimit": 10000
     },
     "inputWidgets": {},
     "nuid": "eafc191f-3c5e-47f6-937f-d031989d9903",
     "showTitle": false,
     "tableResultSettingsMap": {},
     "title": ""
    }
   },
   "outputs": [],
   "source": [
    "outside_window_users.count()"
   ]
  },
  {
   "cell_type": "code",
   "execution_count": 0,
   "metadata": {
    "application/vnd.databricks.v1+cell": {
     "cellMetadata": {
      "byteLimit": 2048000,
      "rowLimit": 10000
     },
     "inputWidgets": {},
     "nuid": "3c167201-9cc9-4f41-b881-b0989b0fb485",
     "showTitle": false,
     "tableResultSettingsMap": {},
     "title": ""
    }
   },
   "outputs": [],
   "source": [
    "user_profiles_classes.write.mode(\"overwrite\").option(\"header\", \"true\").csv(\"/Volumes/workspace/default/data/user_profiles_transaction_classes.csv\")"
   ]
  }
 ],
 "metadata": {
  "application/vnd.databricks.v1+notebook": {
   "computePreferences": {
    "hardware": {
     "accelerator": null,
     "gpuPoolId": null,
     "memory": null
    }
   },
   "dashboards": [],
   "environmentMetadata": {
    "base_environment": "",
    "environment_version": "2"
   },
   "inputWidgetPreferences": null,
   "language": "python",
   "notebookMetadata": {
    "pythonIndentUnit": 4
   },
   "notebookName": "data-preprocessing-marketing-offers",
   "widgets": {}
  },
  "language_info": {
   "name": "python"
  }
 },
 "nbformat": 4,
 "nbformat_minor": 0
}
